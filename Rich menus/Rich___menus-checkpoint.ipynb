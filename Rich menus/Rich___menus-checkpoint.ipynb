{
 "cells": [
  {
   "cell_type": "code",
   "execution_count": 1,
   "metadata": {},
   "outputs": [
    {
     "name": "stdout",
     "output_type": "stream",
     "text": [
      "{\"richMenuId\":\"richmenu-6b43c158842bdfca45d1736b8b805791\"}\n"
     ]
    }
   ],
   "source": [
    "import requests\n",
    "import json   \n",
    "\n",
    "headers = {\"Authorization\":\"Bearer   # Channel Access Token\",\"Content-Type\":\"application/json\"}\n",
    "                                   \n",
    "           \n",
    "body = {\n",
    "    \"size\": {\"width\": 1200, \"height\": 810},  \n",
    "    \"selected\": \"true\",\n",
    "    \"name\": \"Controller\",\n",
    "    \"chatBarText\": \"Controller\",\n",
    "    \"areas\":[\n",
    "         {\n",
    "        \"bounds\": {\"x\": 0, \"y\": 0, \"width\": 300, \"height\": 300},\n",
    "        \"action\": {\n",
    "   \"type\":\"uri\",\n",
    "   \"label\":\"View details\",\n",
    "   \"uri\":\"https://pyhton-teach.herokuapp.com/joinus\"\n",
    "        }\n",
    "            },\n",
    "      {\n",
    "      \"bounds\": {\"x\": 800, \"y\": 0, \"width\": 300, \"height\": 300},\n",
    "        \"action\": {\n",
    "        \"type\": \"message\",\n",
    "        \"text\": \"購物車\"\n",
    "        }\n",
    "          },\n",
    "          {\n",
    "      \"bounds\": {\"x\": 0, \"y\": 400, \"width\": 300, \"height\": 300},\n",
    "        \"action\": {\n",
    "       \"type\":\"uri\",\n",
    "       \"label\":\"View details\",\n",
    "       \"uri\":\"https://elenalin.herokuapp.com/test2\"\n",
    "        }\n",
    "          },\n",
    "      {\n",
    "      \"bounds\": {\"x\": 800, \"y\": 400, \"width\": 300, \"height\": 300},\n",
    "          \"action\": {\n",
    "        \"type\": \"message\",\n",
    "        \"text\": \"廠商專區\"\n",
    "        }\n",
    "          }\n",
    "   ]\n",
    "}\n",
    "\n",
    "req = requests.request('POST', 'https://api.line.me/v2/bot/richmenu', \n",
    "                       headers=headers,data=json.dumps(body).encode('utf-8'))\n",
    "\n",
    "print(req.text) # 先複製richMenuId    richmenu-6b43c158842bdfca45d1736b8b805791"
   ]
  },
  {
   "cell_type": "code",
   "execution_count": null,
   "metadata": {},
   "outputs": [],
   "source": [
    "# ! pip install line-bot-sdk"
   ]
  },
  {
   "cell_type": "code",
   "execution_count": 2,
   "metadata": {},
   "outputs": [],
   "source": [
    "from linebot import (\n",
    "    LineBotApi, WebhookHandler\n",
    ")\n",
    "                               # Channel Access Token\n",
    "line_bot_api = LineBotApirichMenu('')\n",
    "            #設計好的richMenu\n",
    "with open(\"智能 推薦.jpg\", 'rb') as f:\n",
    "    line_bot_api.set_rich_menu_image(\"richmenu-6b43c158842bdfca45d1736b8b805791\", \"image/jpeg\", f)\n",
    "                                         #貼上 richMenuId "
   ]
  },
  {
   "cell_type": "code",
   "execution_count": 3,
   "metadata": {},
   "outputs": [
    {
     "name": "stdout",
     "output_type": "stream",
     "text": [
      "{}\n"
     ]
    }
   ],
   "source": [
    "import requests\n",
    "\n",
    "headers = {\"Authorization\":\"Bearer # Channel Access Token\",\"Content-Type\":\"application/json\"}\n",
    "\n",
    "req = requests.request('POST', 'https://api.line.me/v2/bot/user/all/richmenu/richmenu-6b43c158842bdfca45d1736b8b805791', \n",
    "                       headers=headers)                                             #再貼上 richMenuId \n",
    "\n",
    "print(req.text)"
   ]
  },
  {
   "cell_type": "code",
   "execution_count": 4,
   "metadata": {},
   "outputs": [
    {
     "name": "stdout",
     "output_type": "stream",
     "text": [
      "richmenu-7bc728fd7674e5ba2ad2f003c4753bbb\n",
      "richmenu-c8c92809cb7c4a86f6b14b7809fd0e53\n",
      "richmenu-87c7efbef3ffbb3869c333aaf7d3a59e\n",
      "richmenu-28143a2088c1bf678fc19b209b859aa7\n",
      "richmenu-bf97dd0443ab42bb6a04ec6b17319d1c\n",
      "richmenu-039489c7847be005533aa08f12e88408\n",
      "richmenu-6b43c158842bdfca45d1736b8b805791\n",
      "richmenu-0310e49e08fb89c2dd98928277f41c18\n",
      "richmenu-ece620b8f82aadf9816019d71bb22ea4\n",
      "richmenu-bce1fec68140cdd6e90f5603ac9f5581\n",
      "richmenu-4c46012f7a1935f872867c3d12657384\n",
      "richmenu-51b28a4fee04218ff23f3b3d3edf2df8\n",
      "richmenu-b54e7fcb7dae4a6a541ed83ca9dcea15\n",
      "richmenu-4a4d3a24bc35828125ec9cbefe51d6a8\n",
      "richmenu-3a17c974729f4e98d2e73c5a6f835eec\n",
      "richmenu-473193b3e85d7fa0c562dd33cd84f864\n",
      "richmenu-b966776e1cbbe19f19f374986828e31f\n",
      "richmenu-bdc09c36ad288f4a2128fbfede1f64d9\n",
      "richmenu-1c0f4a8fc9617654421e8424b4d9919e\n",
      "richmenu-4934b51c525245c78299c8e0e111787b\n"
     ]
    }
   ],
   "source": [
    "from linebot import (\n",
    "    LineBotApi, WebhookHandler\n",
    ")\n",
    "\n",
    "line_bot_api = LineBotApi('# Channel Access Token')\n",
    "\n",
    "rich_menu_list = line_bot_api.get_rich_menu_list()\n",
    "\n",
    "for rich_menu in rich_menu_list:\n",
    "    print(rich_menu.rich_menu_id)"
   ]
  },
  {
   "cell_type": "code",
   "execution_count": null,
   "metadata": {},
   "outputs": [],
   "source": [
    "from linebot import (LineBotApi, WebhookHandler)   #刪除 richmenu \n",
    "\n",
    "line_bot_api = LineBotApi('# Channel Access Token')\n",
    "\n",
    "line_bot_api.delete_rich_menu('richmenu-fe84a8be5c8f7b87f069acecb859d011')"
   ]
  },
  {
   "cell_type": "code",
   "execution_count": null,
   "metadata": {},
   "outputs": [],
   "source": []
  }
 ],
 "metadata": {
  "kernelspec": {
   "display_name": "Python 3",
   "language": "python",
   "name": "python3"
  },
  "language_info": {
   "codemirror_mode": {
    "name": "ipython",
    "version": 3
   },
   "file_extension": ".py",
   "mimetype": "text/x-python",
   "name": "python",
   "nbconvert_exporter": "python",
   "pygments_lexer": "ipython3",
   "version": "3.8.2"
  }
 },
 "nbformat": 4,
 "nbformat_minor": 4
}
