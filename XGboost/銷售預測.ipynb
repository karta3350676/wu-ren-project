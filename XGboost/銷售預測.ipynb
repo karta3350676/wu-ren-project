{
 "cells": [
  {
   "cell_type": "code",
   "execution_count": null,
   "metadata": {},
   "outputs": [],
   "source": [
    "import matplotlib.pyplot as plt\n",
    "import seaborn as sns\n",
    "import pandas as pd\n",
    "import numpy as np\n",
    "import pandas as pd\n",
    "import datetime\n",
    "import matplotlib\n",
    "\n",
    "\n",
    "sns.set_style(\"darkgrid\")\n",
    "\n",
    "import warnings\n",
    "warnings.filterwarnings(\"ignore\")\n",
    "\n",
    "import os\n",
    "for dirname, _, filenames in os.walk('./XGboost_archive'):\n",
    "    for filename in filenames:\n",
    "        print(os.path.join(dirname, filename))"
   ]
  },
  {
   "cell_type": "code",
   "execution_count": null,
   "metadata": {},
   "outputs": [],
   "source": [
    "dfs = dict()\n",
    "dfs[\"transaction_data_change\"] = pd.read_csv(\"./XGboost_archive/transaction_data_change_Train.csv\")\n",
    "dfs[\"transaction_data_change\"]"
   ]
  },
  {
   "cell_type": "code",
   "execution_count": null,
   "metadata": {},
   "outputs": [],
   "source": [
    "sales_train = pd.read_csv('./XGboost_archive/transaction_data_change_Train.csv')\n",
    "sales_train"
   ]
  },
  {
   "cell_type": "code",
   "execution_count": null,
   "metadata": {},
   "outputs": [],
   "source": [
    "# sales_train  = sales_train.drop(['Median'], axis = 1)\n",
    "# sales_train .head()"
   ]
  },
  {
   "cell_type": "code",
   "execution_count": null,
   "metadata": {},
   "outputs": [],
   "source": [
    "# sales_train.to_csv(r'transaction_data_change_Train.csv',index = False)"
   ]
  },
  {
   "cell_type": "code",
   "execution_count": null,
   "metadata": {},
   "outputs": [],
   "source": [
    "# sales_train['day']"
   ]
  },
  {
   "cell_type": "code",
   "execution_count": null,
   "metadata": {},
   "outputs": [],
   "source": [
    "# sales_train['day'].sort_values(ascending=True)[:50000]"
   ]
  },
  {
   "cell_type": "code",
   "execution_count": null,
   "metadata": {},
   "outputs": [],
   "source": [
    "# sales_train[sales_train['SUB_COMMODITY_DESC'] ==  'YNG MEN SCREEN PRINT T-SHIRTS']"
   ]
  },
  {
   "cell_type": "code",
   "execution_count": null,
   "metadata": {},
   "outputs": [],
   "source": [
    "purc_per_cust = dfs[\"transaction_data_change\"].groupby(\"household_key\").sum()[\"QUANTITY\"].sort_values(ascending=False)\n",
    "purc_per_cust"
   ]
  },
  {
   "cell_type": "code",
   "execution_count": null,
   "metadata": {},
   "outputs": [],
   "source": [
    "purc_per_cust2 = dfs[\"transaction_data_change\"].groupby(\"PRODUCT_ID\").sum()[\"QUANTITY\"].sort_values(ascending=False)\n",
    "purc_per_cust2"
   ]
  },
  {
   "cell_type": "code",
   "execution_count": null,
   "metadata": {},
   "outputs": [],
   "source": [
    "purc_per_cust3 = dfs[\"transaction_data_change\"].groupby(\"STORE_ID\").sum()[\"QUANTITY\"].sort_values(ascending=False)\n",
    "purc_per_cust3"
   ]
  },
  {
   "cell_type": "code",
   "execution_count": null,
   "metadata": {},
   "outputs": [],
   "source": [
    "purc_per_cust4 = dfs[\"transaction_data_change\"].groupby(\"Date\").sum()[\"QUANTITY\"].sort_values(ascending=False)\n",
    "purc_per_cust4"
   ]
  },
  {
   "cell_type": "code",
   "execution_count": null,
   "metadata": {},
   "outputs": [],
   "source": [
    "purc_per_cust5 = dfs[\"transaction_data_change\"].groupby(\"DEPARTMENT\").sum()[\"QUANTITY\"].sort_values(ascending=False)\n",
    "purc_per_cust5"
   ]
  },
  {
   "cell_type": "code",
   "execution_count": null,
   "metadata": {},
   "outputs": [],
   "source": [
    "purc_per_cust6 = dfs[\"transaction_data_change\"].groupby(\"BRAND\").sum()[\"QUANTITY\"].sort_values(ascending=False)\n",
    "purc_per_cust6"
   ]
  },
  {
   "cell_type": "code",
   "execution_count": null,
   "metadata": {},
   "outputs": [],
   "source": [
    "purc_per_cust7 = dfs[\"transaction_data_change\"].groupby(\"SUB_COMMODITY_DESC\").sum()[\"QUANTITY\"].sort_values(ascending=False)\n",
    "purc_per_cust7"
   ]
  },
  {
   "cell_type": "code",
   "execution_count": null,
   "metadata": {},
   "outputs": [],
   "source": [
    "purc_per_cust8 = dfs[\"transaction_data_change\"].groupby(\"year\").sum()[\"QUANTITY\"].sort_values(ascending=False)\n",
    "purc_per_cust8"
   ]
  },
  {
   "cell_type": "code",
   "execution_count": null,
   "metadata": {},
   "outputs": [],
   "source": [
    "purc_per_cust9 = dfs[\"transaction_data_change\"].groupby(\"month\").sum()[\"QUANTITY\"].sort_values(ascending=False)\n",
    "purc_per_cust9"
   ]
  },
  {
   "cell_type": "code",
   "execution_count": null,
   "metadata": {},
   "outputs": [],
   "source": [
    "purc_per_cust10 = dfs[\"transaction_data_change\"].groupby(\"Mon_Block_num\").sum()[\"QUANTITY\"].sort_values(ascending=False)\n",
    "purc_per_cust10"
   ]
  },
  {
   "cell_type": "code",
   "execution_count": null,
   "metadata": {},
   "outputs": [],
   "source": [
    "purc_per_cust11 = dfs[\"transaction_data_change\"].groupby(\"AGE_DESC\").sum()[\"QUANTITY\"].sort_values(ascending=False)\n",
    "purc_per_cust11"
   ]
  },
  {
   "cell_type": "code",
   "execution_count": null,
   "metadata": {},
   "outputs": [],
   "source": [
    "purc_per_cust12 = dfs[\"transaction_data_change\"].groupby(\"MARITAL_STATUS_CODE\").sum()[\"QUANTITY\"].sort_values(ascending=False)\n",
    "purc_per_cust12"
   ]
  },
  {
   "cell_type": "code",
   "execution_count": null,
   "metadata": {},
   "outputs": [],
   "source": [
    "purc_per_cust13 = dfs[\"transaction_data_change\"].groupby(\"INCOME_DESC\").sum()[\"QUANTITY\"].sort_values(ascending=False)\n",
    "purc_per_cust13"
   ]
  },
  {
   "cell_type": "code",
   "execution_count": null,
   "metadata": {},
   "outputs": [],
   "source": [
    "purc_per_cust14 = dfs[\"transaction_data_change\"].groupby(\"HOMEOWNER_DESC\").sum()[\"QUANTITY\"].sort_values(ascending=False)\n",
    "purc_per_cust14"
   ]
  },
  {
   "cell_type": "code",
   "execution_count": null,
   "metadata": {},
   "outputs": [],
   "source": [
    "purc_per_cust15 = dfs[\"transaction_data_change\"].groupby(\"HH_COMP_DESC\").sum()[\"QUANTITY\"].sort_values(ascending=False)\n",
    "purc_per_cust15"
   ]
  },
  {
   "cell_type": "code",
   "execution_count": null,
   "metadata": {},
   "outputs": [],
   "source": [
    "purc_per_cust16 = dfs[\"transaction_data_change\"].groupby(\"HOUSEHOLD_SIZE_DESC\").sum()[\"QUANTITY\"].sort_values(ascending=False)\n",
    "purc_per_cust16"
   ]
  },
  {
   "cell_type": "code",
   "execution_count": null,
   "metadata": {},
   "outputs": [],
   "source": [
    "purc_per_cust17 = dfs[\"transaction_data_change\"].groupby(\"KID_CATEGORY_DESC\").sum()[\"QUANTITY\"].sort_values(ascending=False)\n",
    "purc_per_cust17"
   ]
  },
  {
   "cell_type": "code",
   "execution_count": null,
   "metadata": {},
   "outputs": [],
   "source": [
    "purc_per_cust18 = dfs[\"transaction_data_change\"].groupby(\"Median\").sum()[\"QUANTITY\"].sort_values(ascending=False)\n",
    "purc_per_cust18"
   ]
  },
  {
   "cell_type": "code",
   "execution_count": null,
   "metadata": {},
   "outputs": [],
   "source": [
    "purc_per_cust = dfs[\"transaction_data_change\"].groupby(\"SUB_COMMODITY_DESC\").sum()[\"QUANTITY\"].sort_values(ascending=False)\n",
    "purc_per_cust = pd.DataFrame(list(zip(purc_per_cust.index,purc_per_cust)),columns=[\"SUB_COMMODITY_DESC\",\"Total_QUANTITY\"])\n",
    "fig_store = plt.figure(figsize=(14,8))\n",
    "sns.barplot(y=\"SUB_COMMODITY_DESC\",x=\"Total_QUANTITY\",data = purc_per_cust[0:20],order=purc_per_cust[0:20][\"SUB_COMMODITY_DESC\"],orient=\"h\")\n",
    "plt.title('Top 20 SUB_COMMODITY_DESC based on QUANTITY', fontsize=17)\n",
    "plt.xlabel('Total_QUANTITY', fontsize=14)\n",
    "plt.ylabel('SUB_COMMODITY_DESC', fontsize=14)\n",
    "plt.show()"
   ]
  },
  {
   "cell_type": "code",
   "execution_count": null,
   "metadata": {},
   "outputs": [],
   "source": [
    "purc_per_cust = dfs[\"transaction_data_change\"].groupby(\"SUB_COMMODITY_DESC\").sum()[\"Median\"].sort_values(ascending=False)\n",
    "purc_per_cust = pd.DataFrame(list(zip(purc_per_cust.index,purc_per_cust)),columns=[\"SUB_COMMODITY_DESC\",\"Total_SALES_VALUE\"])\n",
    "fig_store = plt.figure(figsize=(14,8))\n",
    "sns.barplot(y=\"SUB_COMMODITY_DESC\",x=\"Total_SALES_VALUE\",data = purc_per_cust[:20],order=purc_per_cust[:20][\"SUB_COMMODITY_DESC\"],orient=\"h\")\n",
    "plt.title('Top 20 SUB_COMMODITY_DESC based on SALES_VALUE', fontsize=17)\n",
    "plt.xlabel('Total_SALES_VALUE', fontsize=14)\n",
    "plt.ylabel('SUB_COMMODITY_DESC', fontsize=14)\n",
    "plt.show()"
   ]
  },
  {
   "cell_type": "code",
   "execution_count": null,
   "metadata": {},
   "outputs": [],
   "source": [
    "sales_per_store = dfs[\"transaction_data_change\"].groupby(\"STORE_ID\").sum()[\"Median\"].sort_values(ascending=False)\n",
    "sales_per_store = pd.DataFrame(list(zip(sales_per_store.index,sales_per_store)),columns=[\"Store ID\",\"Total Sales (USD)\"])\n",
    "fig_store = plt.figure(figsize=(14,8))\n",
    "sns.barplot(y=\"Store ID\",x=\"Total Sales (USD)\",data = sales_per_store[:20],order=sales_per_store[:20][\"Store ID\"],orient=\"h\")\n",
    "plt.title('Top 20 Stores based on Sale Amount', fontsize=17)\n",
    "plt.xlabel('Total Sales (USD)', fontsize=14)\n",
    "plt.ylabel('Store ID', fontsize=14)\n",
    "plt.show()"
   ]
  },
  {
   "cell_type": "code",
   "execution_count": null,
   "metadata": {},
   "outputs": [],
   "source": [
    "shops_test = sales_train['STORE_ID'].nunique()\n",
    "shops_test "
   ]
  },
  {
   "cell_type": "code",
   "execution_count": null,
   "metadata": {},
   "outputs": [],
   "source": [
    "purc_per_cust = dfs[\"transaction_data_change\"].groupby(\"household_key\").sum()[\"Median\"].sort_values(ascending=False)\n",
    "purc_per_cust = pd.DataFrame(list(zip(purc_per_cust.index,purc_per_cust)),columns=[\"household_key\",\"Total Purchase (USD)\"])\n",
    "fig_store = plt.figure(figsize=(14,8))\n",
    "sns.barplot(y=\"household_key\",x=\"Total Purchase (USD)\",data = purc_per_cust[:20],order=purc_per_cust[:20][\"household_key\"],orient=\"h\")\n",
    "plt.title('Top 20 Customers based on Purchase Number', fontsize=17)\n",
    "plt.xlabel('Total Purchases (USD)', fontsize=14)\n",
    "plt.ylabel('Household Key', fontsize=14)\n",
    "plt.show()"
   ]
  },
  {
   "cell_type": "code",
   "execution_count": null,
   "metadata": {},
   "outputs": [],
   "source": [
    "total_households = len(dfs[\"transaction_data_change\"].SUB_COMMODITY_DESC.unique())"
   ]
  },
  {
   "cell_type": "code",
   "execution_count": null,
   "metadata": {},
   "outputs": [],
   "source": [
    "dfs[\"transaction_data_change\"].head()"
   ]
  },
  {
   "cell_type": "markdown",
   "metadata": {},
   "source": [
    "## 開跑"
   ]
  },
  {
   "cell_type": "code",
   "execution_count": null,
   "metadata": {},
   "outputs": [],
   "source": [
    "sales_train = pd.read_csv('./XGboost_archive/transaction_data_change_Train.csv')\n",
    "sales_train"
   ]
  },
  {
   "cell_type": "code",
   "execution_count": null,
   "metadata": {},
   "outputs": [],
   "source": [
    "sales_train = sales_train.drop('DEPARTMENT', axis = 1)\n",
    "sales_train "
   ]
  },
  {
   "cell_type": "code",
   "execution_count": null,
   "metadata": {},
   "outputs": [],
   "source": [
    "# sales_train ['KID_CATEGORY_DESC'] = sales_train ['KID_CATEGORY_DESC'].replace('None/Unknown', 0)"
   ]
  },
  {
   "cell_type": "code",
   "execution_count": null,
   "metadata": {},
   "outputs": [],
   "source": [
    "# sales_train ['HOMEOWNER_DESC'] = sales_train ['HOMEOWNER_DESC'].replace('Unknown', 0)"
   ]
  },
  {
   "cell_type": "code",
   "execution_count": null,
   "metadata": {},
   "outputs": [],
   "source": [
    "# sales_train ['HOMEOWNER_DESC'] = sales_train ['HOMEOWNER_DESC'].replace('Homeowner', 1)"
   ]
  },
  {
   "cell_type": "code",
   "execution_count": null,
   "metadata": {},
   "outputs": [],
   "source": [
    "# sales_train ['HOMEOWNER_DESC'] = sales_train ['HOMEOWNER_DESC'].replace('Renter', 2)"
   ]
  },
  {
   "cell_type": "code",
   "execution_count": null,
   "metadata": {},
   "outputs": [],
   "source": [
    "# sales_train ['HOMEOWNER_DESC'] = sales_train ['HOMEOWNER_DESC'].replace('Probable Renter', 3)"
   ]
  },
  {
   "cell_type": "code",
   "execution_count": null,
   "metadata": {},
   "outputs": [],
   "source": [
    "# sales_train ['HOMEOWNER_DESC'] = sales_train ['HOMEOWNER_DESC'].replace('Probable Owner', 4)"
   ]
  },
  {
   "cell_type": "code",
   "execution_count": null,
   "metadata": {},
   "outputs": [],
   "source": [
    "# sales_train ['HH_COMP_DESC'] = sales_train ['HH_COMP_DESC'].replace('Unknown', 0)"
   ]
  },
  {
   "cell_type": "code",
   "execution_count": null,
   "metadata": {},
   "outputs": [],
   "source": [
    "# sales_train ['HH_COMP_DESC'] = sales_train ['HH_COMP_DESC'].replace('Single Male', 1)"
   ]
  },
  {
   "cell_type": "code",
   "execution_count": null,
   "metadata": {},
   "outputs": [],
   "source": [
    "# sales_train ['HH_COMP_DESC'] = sales_train ['HH_COMP_DESC'].replace('Single Female', 2)"
   ]
  },
  {
   "cell_type": "code",
   "execution_count": null,
   "metadata": {},
   "outputs": [],
   "source": [
    "# sales_train ['HH_COMP_DESC'] = sales_train ['HH_COMP_DESC'].replace('2 Adults Kids', 3)"
   ]
  },
  {
   "cell_type": "code",
   "execution_count": null,
   "metadata": {},
   "outputs": [],
   "source": [
    "# sales_train ['HH_COMP_DESC'] = sales_train ['HH_COMP_DESC'].replace('2 Adults No Kids', 4)"
   ]
  },
  {
   "cell_type": "code",
   "execution_count": null,
   "metadata": {},
   "outputs": [],
   "source": [
    "# sales_train ['HH_COMP_DESC'] = sales_train ['HH_COMP_DESC'].replace('1 Adult Kids', 5)"
   ]
  },
  {
   "cell_type": "code",
   "execution_count": null,
   "metadata": {},
   "outputs": [],
   "source": [
    "# sales_train ['HOUSEHOLD_SIZE_DESC'] = sales_train ['HOUSEHOLD_SIZE_DESC'].replace('5+', 5)"
   ]
  },
  {
   "cell_type": "code",
   "execution_count": null,
   "metadata": {},
   "outputs": [],
   "source": [
    "# sales_train ['KID_CATEGORY_DESC'] = sales_train ['KID_CATEGORY_DESC'].replace('3+', 3)"
   ]
  },
  {
   "cell_type": "code",
   "execution_count": null,
   "metadata": {},
   "outputs": [],
   "source": [
    "# sales_train ['INCOME_DESC'] = sales_train ['INCOME_DESC'].replace('250K+','250K')"
   ]
  },
  {
   "cell_type": "code",
   "execution_count": null,
   "metadata": {},
   "outputs": [],
   "source": [
    "# sales_train ['AGE_DESC'] = sales_train ['AGE_DESC'].replace('65+', 65)"
   ]
  },
  {
   "cell_type": "code",
   "execution_count": null,
   "metadata": {},
   "outputs": [],
   "source": [
    "# sales_train[sales_train['INCOME_DESC'] == '250K+' ]"
   ]
  },
  {
   "cell_type": "code",
   "execution_count": null,
   "metadata": {},
   "outputs": [],
   "source": [
    "# sales_train[sales_train['AGE_DESC'] == '65+' ]"
   ]
  },
  {
   "cell_type": "code",
   "execution_count": null,
   "metadata": {},
   "outputs": [],
   "source": [
    "# sales_train[sales_train['HOUSEHOLD_SIZE_DESC'] == 5 ]"
   ]
  },
  {
   "cell_type": "code",
   "execution_count": null,
   "metadata": {},
   "outputs": [],
   "source": [
    "sales_train"
   ]
  },
  {
   "cell_type": "code",
   "execution_count": null,
   "metadata": {},
   "outputs": [],
   "source": [
    "# sales_train['KID_CATEGORY_DESC'] = sales_train['KID_CATEGORY_DESC'].dtypes()"
   ]
  },
  {
   "cell_type": "code",
   "execution_count": null,
   "metadata": {},
   "outputs": [],
   "source": [
    "sales_train.dtypes"
   ]
  },
  {
   "cell_type": "code",
   "execution_count": null,
   "metadata": {},
   "outputs": [],
   "source": [
    "sales_train = pd.get_dummies(sales_train[sales_train.columns[sales_train.dtypes == object]])\n",
    "# sales_train = pd.concat([sales_train, sales_train[sales_train.columns[sales_train.dtypes != object]]],axis=1)"
   ]
  },
  {
   "cell_type": "code",
   "execution_count": null,
   "metadata": {},
   "outputs": [],
   "source": [
    "df2 = sales_train.corr()\n",
    "df2['QUANTITY']"
   ]
  },
  {
   "cell_type": "code",
   "execution_count": null,
   "metadata": {},
   "outputs": [],
   "source": []
  },
  {
   "cell_type": "code",
   "execution_count": null,
   "metadata": {},
   "outputs": [],
   "source": []
  },
  {
   "cell_type": "code",
   "execution_count": null,
   "metadata": {},
   "outputs": [],
   "source": [
    "from sklearn import preprocessing\n",
    "label_encoder = preprocessing.LabelEncoder()\n",
    "sales_train['BRAND'] = label_encoder.fit_transform(sales_train['BRAND'])\n",
    "sales_train['AGE_DESC'] = label_encoder.fit_transform(sales_train['AGE_DESC'])\n",
    "sales_train['MARITAL_STATUS_CODE'] = label_encoder.fit_transform(sales_train['MARITAL_STATUS_CODE'])\n",
    "sales_train['INCOME_DESC'] = label_encoder.fit_transform(sales_train['INCOME_DESC'])\n",
    "sales_train['HOMEOWNER_DESC'] = label_encoder.fit_transform(sales_train['HOMEOWNER_DESC'])\n",
    "sales_train['HH_COMP_DESC'] = label_encoder.fit_transform(sales_train['HH_COMP_DESC'])\n",
    "sales_train['HOUSEHOLD_SIZE_DESC'] = label_encoder.fit_transform(sales_train['HOUSEHOLD_SIZE_DESC'])\n",
    "sales_train['KID_CATEGORY_DESC'] = label_encoder.fit_transform(sales_train['KID_CATEGORY_DESC'])\n"
   ]
  },
  {
   "cell_type": "code",
   "execution_count": null,
   "metadata": {},
   "outputs": [],
   "source": [
    "sales_train.dtypes"
   ]
  },
  {
   "cell_type": "code",
   "execution_count": null,
   "metadata": {},
   "outputs": [],
   "source": [
    "from sklearn.feature_selection import SelectKBest\n",
    "from sklearn.feature_selection import f_regression\n",
    "selectKBest = SelectKBest(f_regression,k=9)\n",
    "feature =sales_train[sales_train.columns[sales_train.dtypes != object]]\n",
    "# feature =df[['household_key','PRODUCT_ID','STORE_ID','BRAND','Median','year','month','Mon_Block_num','']]\n",
    "bestFeature =selectKBest.fit_transform(feature,sales_train['QUANTITY'])\n",
    "feature.columns[selectKBest.get_support()]"
   ]
  },
  {
   "cell_type": "code",
   "execution_count": null,
   "metadata": {},
   "outputs": [],
   "source": [
    "head()sales_train = sales_train.drop(['household_key','Date','year', 'month', 'Mon_Block_num', 'MARITAL_STATUS_CODE', 'HOMEOWNER_DESC', 'INCOME_DESC',\n",
    "        'KID_CATEGORY_DESC'],axis= 1,inplace = False)"
   ]
  },
  {
   "cell_type": "code",
   "execution_count": null,
   "metadata": {},
   "outputs": [],
   "source": [
    "sales_train"
   ]
  },
  {
   "cell_type": "code",
   "execution_count": null,
   "metadata": {},
   "outputs": [],
   "source": [
    "sales_train = pd.get_dummies(sales_train[sales_train.columns[sales_train.dtypes!=object]])\n",
    "sales_train = pd.concat([sales_train, sales_train[sales_train.columns[sales_train.dtypes != object]]],axis=1)"
   ]
  },
  {
   "cell_type": "code",
   "execution_count": null,
   "metadata": {},
   "outputs": [],
   "source": [
    "sales_train"
   ]
  },
  {
   "cell_type": "code",
   "execution_count": null,
   "metadata": {},
   "outputs": [],
   "source": []
  },
  {
   "cell_type": "code",
   "execution_count": null,
   "metadata": {},
   "outputs": [],
   "source": [
    "# def generate_lag(train, months, lag_column):\n",
    "#     for month in months:\n",
    "#         # 创建滞后特征\n",
    "#         train_shift = train[['Mon_Block_num', 'STORE_ID', 'PRODUCT_ID', lag_column]].copy()\n",
    "#         train_shift.columns = ['Mon_Block_num', 'STORE_ID', 'PRODUCT_ID', lag_column+'_lag_'+ str(month)]\n",
    "#         train_shift['Mon_Block_num'] += month\n",
    "#         #新列表连接到训练集中\n",
    "#         train = pd.merge(train, train_shift, on=['Mon_Block_num', 'STORE_ID', 'PRODUCT_ID'], how='left')\n",
    "#     return train"
   ]
  },
  {
   "cell_type": "code",
   "execution_count": null,
   "metadata": {},
   "outputs": [],
   "source": [
    "# from tqdm import tqdm_notebook   # 进度读取条使用\n",
    "# def downcast_dtypes(df):   \n",
    "#     # 选择需要处理的列 \n",
    "#     float_cols = [c for c in df if df[c].dtype == \"float64\"]\n",
    "#     int_cols =   [c for c in df if df[c].dtype == \"int64\"]\n",
    "    \n",
    "#     #开始数据转换\n",
    "#     df[float_cols] = df[float_cols].astype(np.float16)\n",
    "#     df[int_cols]   = df[int_cols].astype(np.int16)\n",
    "    \n",
    "#     return df"
   ]
  },
  {
   "cell_type": "code",
   "execution_count": null,
   "metadata": {},
   "outputs": [],
   "source": [
    "# #使用变换函数来更数据类型\n",
    "# sales_train = downcast_dtypes(sales_train)  "
   ]
  },
  {
   "cell_type": "code",
   "execution_count": null,
   "metadata": {},
   "outputs": [],
   "source": [
    "# %%time\n",
    "# #添加商品-目标均值的滞后特征\n",
    "# #按月份和商品id排序并取其月销量的均值\n",
    "# group = sales_train.groupby(['Mon_Block_num', 'PRODUCT_ID'])['QUANTITY'].mean().rename('item_month_mean').reset_index()\n",
    "# #将新表添加到new_train的右侧，对应'date_block_num', 'item_id'属性\n",
    "# sales_train = pd.merge(sales_train, group, on=['Mon_Block_num', 'PRODUCT_ID'], how='left')\n",
    "# #对[1,2,3,6,12]月进行月销量滞后添加（均值填充）\n",
    "# sales_train = generate_lag(sales_train, [1,2,3,6,12], 'item_month_mean')\n",
    "# #删除不需要的'item_month_mean'属性\n",
    "# # sales_train.drop(['item_month_mean'], axis=1, inplace=True)"
   ]
  },
  {
   "cell_type": "code",
   "execution_count": null,
   "metadata": {},
   "outputs": [],
   "source": [
    "# %%time\n",
    "# #添加目标变量（月销量属性）的滞后特征，添加部分的月销量数据\n",
    "# sales_train = generate_lag(sales_train, [1,2,3,4,5,6,12], 'Mon_Block_num')"
   ]
  },
  {
   "cell_type": "code",
   "execution_count": null,
   "metadata": {},
   "outputs": [],
   "source": [
    "# months = sales_train['date_block_num'].unique()\n",
    "# cartesian = []\n",
    "# for month in months:\n",
    "#     shops_in_month = sales_train.loc[sales_train['date_block_num']==month, 'shop_id'].unique()\n",
    "#     items_in_month = sales_train.loc[sales_train['date_block_num']==month, 'item_id'].unique()\n",
    "#     cartesian.append(np.array(list(product(*[shops_in_month, items_in_month, [month]])), dtype='int32'))\n",
    "    \n",
    "# cartesian_df = pd.DataFrame(np.vstack(cartesian), columns = ['Mon_Block_num', 'STORE_ID', 'PRODUCT_ID'], dtype=np.int32)"
   ]
  },
  {
   "cell_type": "code",
   "execution_count": null,
   "metadata": {},
   "outputs": [],
   "source": []
  },
  {
   "cell_type": "code",
   "execution_count": null,
   "metadata": {},
   "outputs": [],
   "source": []
  },
  {
   "cell_type": "code",
   "execution_count": null,
   "metadata": {},
   "outputs": [],
   "source": []
  },
  {
   "cell_type": "code",
   "execution_count": null,
   "metadata": {},
   "outputs": [],
   "source": []
  }
 ],
 "metadata": {
  "kernelspec": {
   "display_name": "Python 3",
   "language": "python",
   "name": "python3"
  },
  "language_info": {
   "codemirror_mode": {
    "name": "ipython",
    "version": 3
   },
   "file_extension": ".py",
   "mimetype": "text/x-python",
   "name": "python",
   "nbconvert_exporter": "python",
   "pygments_lexer": "ipython3",
   "version": "3.8.5"
  }
 },
 "nbformat": 4,
 "nbformat_minor": 4
}
